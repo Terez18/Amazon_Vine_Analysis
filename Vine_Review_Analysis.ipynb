{
  "nbformat": 4,
  "nbformat_minor": 0,
  "metadata": {
    "colab": {
      "name": "Vine_Review_Analysis.ipynb",
      "provenance": [],
      "collapsed_sections": []
    },
    "kernelspec": {
      "name": "python3",
      "display_name": "Python 3"
    },
    "language_info": {
      "name": "python"
    }
  },
  "cells": [
    {
      "cell_type": "code",
      "metadata": {
        "colab": {
          "base_uri": "https://localhost:8080/"
        },
        "id": "0oxQwLguUhmF",
        "outputId": "c9282c78-32b7-4d5d-b26b-25c732682366"
      },
      "source": [
        "import os\n",
        "# Find the latest version of spark 2.0  from http://www-us.apache.org/dist/spark/ and enter as the spark version\n",
        "# For example:\n",
        "# spark_version = 'spark-3.0.1'\n",
        "spark_version = 'spark-3.1.1'\n",
        "os.environ['SPARK_VERSION']=spark_version\n",
        "\n",
        "# Install Spark and Java\n",
        "!apt-get update\n",
        "!apt-get install openjdk-11-jdk-headless -qq > /dev/null\n",
        "!wget -q http://www-us.apache.org/dist/spark/$SPARK_VERSION/$SPARK_VERSION-bin-hadoop2.7.tgz\n",
        "!tar xf $SPARK_VERSION-bin-hadoop2.7.tgz\n",
        "!pip install -q findspark\n",
        "\n",
        "# Set Environment Variables\n",
        "import os\n",
        "os.environ[\"JAVA_HOME\"] = \"/usr/lib/jvm/java-11-openjdk-amd64\"\n",
        "os.environ[\"SPARK_HOME\"] = f\"/content/{spark_version}-bin-hadoop2.7\"\n",
        "\n",
        "# Start a SparkSession\n",
        "import findspark\n",
        "findspark.init()"
      ],
      "execution_count": 1,
      "outputs": [
        {
          "output_type": "stream",
          "text": [
            "\r0% [Working]\r            \rIgn:1 https://developer.download.nvidia.com/compute/cuda/repos/ubuntu1804/x86_64  InRelease\n",
            "\r0% [Connecting to archive.ubuntu.com] [Connecting to security.ubuntu.com] [Conn\r                                                                               \rIgn:2 https://developer.download.nvidia.com/compute/machine-learning/repos/ubuntu1804/x86_64  InRelease\n",
            "\r0% [Connecting to archive.ubuntu.com] [Connecting to security.ubuntu.com] [Conn\r                                                                               \rHit:3 https://cloud.r-project.org/bin/linux/ubuntu bionic-cran40/ InRelease\n",
            "\r0% [Connecting to archive.ubuntu.com] [Connecting to security.ubuntu.com] [Conn\r                                                                               \rHit:4 https://developer.download.nvidia.com/compute/cuda/repos/ubuntu1804/x86_64  Release\n",
            "Hit:5 https://developer.download.nvidia.com/compute/machine-learning/repos/ubuntu1804/x86_64  Release\n",
            "Hit:6 http://security.ubuntu.com/ubuntu bionic-security InRelease\n",
            "Hit:7 http://ppa.launchpad.net/c2d4u.team/c2d4u4.0+/ubuntu bionic InRelease\n",
            "Hit:8 http://archive.ubuntu.com/ubuntu bionic InRelease\n",
            "Get:9 http://archive.ubuntu.com/ubuntu bionic-updates InRelease [88.7 kB]\n",
            "Hit:11 http://ppa.launchpad.net/cran/libgit2/ubuntu bionic InRelease\n",
            "Hit:13 http://ppa.launchpad.net/deadsnakes/ppa/ubuntu bionic InRelease\n",
            "Get:14 http://archive.ubuntu.com/ubuntu bionic-backports InRelease [74.6 kB]\n",
            "Hit:15 http://ppa.launchpad.net/graphics-drivers/ppa/ubuntu bionic InRelease\n",
            "Get:16 http://archive.ubuntu.com/ubuntu bionic-updates/main amd64 Packages [2,584 kB]\n",
            "Get:17 http://archive.ubuntu.com/ubuntu bionic-updates/universe amd64 Packages [2,184 kB]\n",
            "Fetched 4,931 kB in 3s (1,649 kB/s)\n",
            "Reading package lists... Done\n"
          ],
          "name": "stdout"
        }
      ]
    },
    {
      "cell_type": "code",
      "metadata": {
        "colab": {
          "base_uri": "https://localhost:8080/"
        },
        "id": "OnAW5KIDUZSu",
        "outputId": "fdb4b048-9e06-495b-eb30-6d968d21adec"
      },
      "source": [
        "# Download the Postgres driver that will allow Spark to interact with Postgres.\n",
        "!wget https://jdbc.postgresql.org/download/postgresql-42.2.16.jar"
      ],
      "execution_count": 2,
      "outputs": [
        {
          "output_type": "stream",
          "text": [
            "--2021-05-26 19:36:05--  https://jdbc.postgresql.org/download/postgresql-42.2.16.jar\n",
            "Resolving jdbc.postgresql.org (jdbc.postgresql.org)... 72.32.157.228, 2001:4800:3e1:1::228\n",
            "Connecting to jdbc.postgresql.org (jdbc.postgresql.org)|72.32.157.228|:443... connected.\n",
            "HTTP request sent, awaiting response... 200 OK\n",
            "Length: 1002883 (979K) [application/java-archive]\n",
            "Saving to: ‘postgresql-42.2.16.jar.1’\n",
            "\n",
            "postgresql-42.2.16. 100%[===================>] 979.38K  6.07MB/s    in 0.2s    \n",
            "\n",
            "2021-05-26 19:36:05 (6.07 MB/s) - ‘postgresql-42.2.16.jar.1’ saved [1002883/1002883]\n",
            "\n"
          ],
          "name": "stdout"
        }
      ]
    },
    {
      "cell_type": "code",
      "metadata": {
        "id": "D9_kN5s3TuKL"
      },
      "source": [
        "from pyspark.sql import SparkSession\n",
        "spark = SparkSession.builder.appName(\"BigData-Challenge\").config(\"spark.driver.extraClassPath\",\"/content/postgresql-42.2.16.jar\").getOrCreate()"
      ],
      "execution_count": 3,
      "outputs": []
    },
    {
      "cell_type": "code",
      "metadata": {
        "colab": {
          "base_uri": "https://localhost:8080/"
        },
        "id": "Zw7WYmLgURtk",
        "outputId": "0375afb1-0c6c-4805-f9cc-4b1f2fbb181d"
      },
      "source": [
        "from pyspark import SparkFiles\n",
        "url = \"https://s3.amazonaws.com/amazon-reviews-pds/tsv/amazon_reviews_us_Musical_Instruments_v1_00.tsv.gz\"\n",
        "spark.sparkContext.addFile(url)\n",
        "df = spark.read.option(\"encoding\", \"UTF-8\").csv(SparkFiles.get(\"\"), sep=\"\\t\", header=True, inferSchema=True)\n",
        "df.show()"
      ],
      "execution_count": 4,
      "outputs": [
        {
          "output_type": "stream",
          "text": [
            "+-----------+-----------+--------------+----------+--------------+--------------------+-------------------+-----------+-------------+-----------+----+-----------------+--------------------+--------------------+-----------+\n",
            "|marketplace|customer_id|     review_id|product_id|product_parent|       product_title|   product_category|star_rating|helpful_votes|total_votes|vine|verified_purchase|     review_headline|         review_body|review_date|\n",
            "+-----------+-----------+--------------+----------+--------------+--------------------+-------------------+-----------+-------------+-----------+----+-----------------+--------------------+--------------------+-----------+\n",
            "|         US|   45610553| RMDCHWD0Y5OZ9|B00HH62VB6|     618218723|AGPtek® 10 Isolat...|Musical Instruments|          3|            0|          1|   N|                N|         Three Stars|Works very good, ...| 2015-08-31|\n",
            "|         US|   14640079| RZSL0BALIYUNU|B003LRN53I|     986692292|Sennheiser HD203 ...|Musical Instruments|          5|            0|          0|   N|                Y|          Five Stars|Nice headphones a...| 2015-08-31|\n",
            "|         US|    6111003| RIZR67JKUDBI0|B0006VMBHI|     603261968|AudioQuest LP rec...|Musical Instruments|          3|            0|          1|   N|                Y|         Three Stars|removes dust. doe...| 2015-08-31|\n",
            "|         US|    1546619|R27HL570VNL85F|B002B55TRG|     575084461|Hohner Inc. 560BX...|Musical Instruments|          5|            0|          0|   N|                Y|I purchase these ...|I purchase these ...| 2015-08-31|\n",
            "|         US|   12222213|R34EBU9QDWJ1GD|B00N1YPXW2|     165236328|Blue Yeti USB Mic...|Musical Instruments|          5|            0|          0|   N|                Y|          Five Stars|This is an awesom...| 2015-08-31|\n",
            "|         US|   46018513|R1WCUI4Z1SIQEO|B001N4GRGS|     134151483|Middle Atlantic P...|Musical Instruments|          5|            0|          0|   N|                N|          Five Stars|Used to cool equi...| 2015-08-31|\n",
            "|         US|   10225065| RL5LNO26GAVJ1|B009PJRMHQ|     694166585|Kmise 1pc Pickgua...|Musical Instruments|          2|            3|          4|   N|                Y|Will not Fit Epip...|Note- Does not Fi...| 2015-08-31|\n",
            "|         US|    6356995|R3GYQ5W8JHP8SB|B00NKBDAZS|     446431775|Kealoha Concert U...|Musical Instruments|          5|            0|          0|   N|                Y|          Five Stars|Well built Ukulel...| 2015-08-31|\n",
            "|         US|   35297198|R30SHYQXGG5EYC|B006MIU7U2|     125871705|Halco 80000 - MR1...|Musical Instruments|          5|            0|          0|   N|                Y|Works fine. Hope ...|Had to replace a ...| 2015-08-31|\n",
            "|         US|   32139520|R14YLXA56NP51I|B000FIBD0I|     771888534|Gator GPTBLACK Pl...|Musical Instruments|          5|            1|          1|   N|                N|I upgraded the po...|I've owned multip...| 2015-08-31|\n",
            "|         US|   36060782|R1ZH0HSH38IOTZ|B0002E52GG|      68535945|Hetman 1 - Light ...|Musical Instruments|          5|            0|          0|   N|                Y|My son's favourit...|Consistent qualit...| 2015-08-31|\n",
            "|         US|    5301309|R3H53KLLC210XI|B00RZIH52G|     725541773|Dragonpad pop fil...|Musical Instruments|          4|            0|          0|   N|                Y|Great pop filter ...|by far the best p...| 2015-08-31|\n",
            "|         US|   37472935|R3OOR877NGA8JK|B001792BAU|      46570323|DharmaObjects Rel...|Musical Instruments|          3|            0|          0|   N|                Y|                  Ok|Beautiful set. On...| 2015-08-31|\n",
            "|         US|   33578270|R1BY7WKOZ3KMH0|B009GSKW1Y|     547963417|Musiclily SSS Pla...|Musical Instruments|          2|            0|          0|   N|                Y|           Two Stars|Bridge pickup was...| 2015-08-31|\n",
            "|         US|   22070226| RXP1TFSWE8EG9|B0002F4TKA|     436074323|Vic Firth America...|Musical Instruments|          5|            0|          0|   N|                Y|          Five Stars|Feels good and la...| 2015-08-31|\n",
            "|         US|   52862655|R3J44DPP12OTLJ|B00K17YFBW|      81933093|Guitar Stand for ...|Musical Instruments|          5|            0|          0|   N|                Y|Great stand... on...|I love the stand....| 2015-08-31|\n",
            "|         US|    4427243| RFOV69SK0T676|B00EQ24HJS|     669249276|Generic 3PLY Faux...|Musical Instruments|          5|            0|          0|   N|                Y|Looks great. You ...|On time. Looks gr...| 2015-08-31|\n",
            "|         US|   14108571|R2HUWDNW62FOL3|B00IBOYTUE|     749537231|Audio 2000 6525 3...|Musical Instruments|          1|            0|          0|   N|                Y|  Poor sound quality|I was hoping it w...| 2015-08-31|\n",
            "|         US|   27314089|R1KSU30XZGR452|B00FBRUSAE|     792472601|Sawtooth ST-AMP-1...|Musical Instruments|          5|            0|          0|   N|                Y|Perfect for the b...|Good sound for it...| 2015-08-31|\n",
            "|         US|   16735445|R2TZVLLTSHA07N|B0113D2QUO|     269114019|Upado Unlimited G...|Musical Instruments|          5|            1|          1|   N|                Y|It really is a mu...|Wow! I didn't exp...| 2015-08-31|\n",
            "+-----------+-----------+--------------+----------+--------------+--------------------+-------------------+-----------+-------------+-----------+----+-----------------+--------------------+--------------------+-----------+\n",
            "only showing top 20 rows\n",
            "\n"
          ],
          "name": "stdout"
        }
      ]
    },
    {
      "cell_type": "code",
      "metadata": {
        "colab": {
          "base_uri": "https://localhost:8080/"
        },
        "id": "kifK5VTOU5kN",
        "outputId": "4517fa2b-08d8-4174-b702-ab08085937f8"
      },
      "source": [
        "filtered_df  =df[df['total_votes']>=20]\n",
        "filtered_df.show()\n"
      ],
      "execution_count": 5,
      "outputs": [
        {
          "output_type": "stream",
          "text": [
            "+-----------+-----------+--------------+----------+--------------+--------------------+-------------------+-----------+-------------+-----------+----+-----------------+--------------------+--------------------+-----------+\n",
            "|marketplace|customer_id|     review_id|product_id|product_parent|       product_title|   product_category|star_rating|helpful_votes|total_votes|vine|verified_purchase|     review_headline|         review_body|review_date|\n",
            "+-----------+-----------+--------------+----------+--------------+--------------------+-------------------+-----------+-------------+-----------+----+-----------------+--------------------+--------------------+-----------+\n",
            "|         US|   15365576|R2243Y3OD8U6KQ|B00W1RTVGO|     160618734|Supertech stage l...|Musical Instruments|          5|           47|         61|   N|                N|This fills a room...|I am always looki...| 2015-08-31|\n",
            "|         US|   28770559|R2TGT0CDTCAAHW|B00INJ7HBK|     157027184|Singing Machine I...|Musical Instruments|          5|           21|         23|   N|                Y|   excellent product|Kids love it! It'...| 2015-08-31|\n",
            "|         US|   35225823| RX4D22YSXEF4P|B009EK8PUY|     166820090|Akai Front Load C...|Musical Instruments|          1|           37|         38|   N|                Y|All the reviews t...|All the reviews t...| 2015-08-31|\n",
            "|         US|   24740219|R3FL2NTLFUSPTQ|B014K2S348|     865024902|AKG 2015 NEWEST M...|Musical Instruments|          5|           33|         37|   N|                N|Might need an Amp...|I picked these he...| 2015-08-30|\n",
            "|         US|   26124872|R3QTP3YNZXAPPF|B004ISK4E2|     269767230|Fender CD-60 All ...|Musical Instruments|          3|           23|         24|   N|                Y|Couldnt be happie...|Great value. Awes...| 2015-08-30|\n",
            "|         US|   16452718|R36V6V42VN5AS5|B00SCP7IB4|     160806469|Numark Mixtrack 3...|Musical Instruments|          5|           34|         37|   N|                Y|let me say that t...|First off, let me...| 2015-08-30|\n",
            "|         US|   40567300|R27LZWE27BJPOB|B0142OY3ZM|     201152025|WOWTOU RGB Stage ...|Musical Instruments|          5|           22|         23|   N|                N|    Neat desktop toy|I saw this item a...| 2015-08-30|\n",
            "|         US|   52695075|  RMRD6SMF2AUQ|B010W6WFEA|     592936032|Shure MV51 Digita...|Musical Instruments|          3|            4|         21|   N|                N|A bit short of th...|Almost Shure, alm...| 2015-08-30|\n",
            "|         US|   11587240| RMPCXKWX3T57Y|B000U0DU34|     875707506|Fulltone OCD Obse...|Musical Instruments|          1|            1|         73|   N|                N|so happy the fina...|Finally I can't w...| 2015-08-29|\n",
            "|         US|   49287335|R1P7GJ0IN2BRNH|B005FIFM14|       2563833|Pick Punch - The ...|Musical Instruments|          5|           37|         37|   N|                Y|  super fun and easy|Had it for about ...| 2015-08-29|\n",
            "|         US|   50984149|R2R6JPF9KOD2HJ|B008GXEFWC|     162279247|ddrum DD1 Complet...|Musical Instruments|          5|           19|         20|   N|                Y|   Super Drum Kit!!!|Awesome Kit With ...| 2015-08-29|\n",
            "|         US|   44703201|R3JM8Z4SP9N3H2|B00BG300DC|     310087706|PRS Exclusive Tob...|Musical Instruments|          1|            4|         23|   N|                N|Total Marketing Scam|This is a marketi...| 2015-08-29|\n",
            "|         US|   18517211|R2J0ZZGFXKM8KR|B00MZY6DXM|     498246743|Bakelite Guitar F...|Musical Instruments|          2|           21|         22|   N|                Y|NOT A SET OF NUT ...|NOT A SET OF NUT ...| 2015-08-28|\n",
            "|         US|   29380174|R238ZSG6TSUBNX|B0025VLQVE|     481754329|Dean Vendetta XMT...|Musical Instruments|          5|           27|         27|   N|                Y|          Amazing!!!|I can't believe p...| 2015-08-28|\n",
            "|         US|   37778551|R37WGVXA94D62S|B00MHTVIDU|     128700848|Rode iXY Recordin...|Musical Instruments|          2|            4|         20|   N|                Y|No it does not wo...|don't waste time ...| 2015-08-28|\n",
            "|         US|   47575748| RC6Y8GYIQZ8YU|B00HVLUR54|       9240469|Audio-Technica AT...|Musical Instruments|          3|           72|         85|   N|                Y|Good Sound, Medio...|Sound quality is ...| 2015-08-28|\n",
            "|         US|    1221512| RFL3TJED8C240|B00IZP4XR8|     386235968|Ibanez RG Series ...|Musical Instruments|          5|           13|         24|   N|                N|           It dj0nts|0/0<br />It dj0nt...| 2015-08-28|\n",
            "|         US|   51260912|R3D4P7A8Q1C70F|B00WU5OM5M|      18153107|LaluceNatz 18LED ...|Musical Instruments|          5|           22|         27|   N|                Y|Great product, es...|Ok, here is the d...| 2015-08-27|\n",
            "|         US|   40130155|R3PRNAQVQBB9M6|B00MUFJXTM|     500213118|TOTMC Legend of Z...|Musical Instruments|          1|           21|         30|   N|                Y|Product Not as Ad...|Terrible ocarina,...| 2015-08-27|\n",
            "|         US|    3430931|R2NTTIW5KBKLYG|B011I9AKYW|     686654129|WOWTOU LED Stage ...|Musical Instruments|          5|           19|         20|   N|                N|   Great Party Light|This is a great a...| 2015-08-27|\n",
            "+-----------+-----------+--------------+----------+--------------+--------------------+-------------------+-----------+-------------+-----------+----+-----------------+--------------------+--------------------+-----------+\n",
            "only showing top 20 rows\n",
            "\n"
          ],
          "name": "stdout"
        }
      ]
    },
    {
      "cell_type": "code",
      "metadata": {
        "colab": {
          "base_uri": "https://localhost:8080/"
        },
        "id": "n4AIxuKeWzjT",
        "outputId": "94f89309-4082-4c80-80b9-9327efa27068"
      },
      "source": [
        "\n",
        "second_filtered_df = filtered_df.filter(filtered_df['helpful_votes']/filtered_df['total_votes']>=0.5)\n",
        "second_filtered_df.show()"
      ],
      "execution_count": 6,
      "outputs": [
        {
          "output_type": "stream",
          "text": [
            "+-----------+-----------+--------------+----------+--------------+--------------------+-------------------+-----------+-------------+-----------+----+-----------------+--------------------+--------------------+-----------+\n",
            "|marketplace|customer_id|     review_id|product_id|product_parent|       product_title|   product_category|star_rating|helpful_votes|total_votes|vine|verified_purchase|     review_headline|         review_body|review_date|\n",
            "+-----------+-----------+--------------+----------+--------------+--------------------+-------------------+-----------+-------------+-----------+----+-----------------+--------------------+--------------------+-----------+\n",
            "|         US|   15365576|R2243Y3OD8U6KQ|B00W1RTVGO|     160618734|Supertech stage l...|Musical Instruments|          5|           47|         61|   N|                N|This fills a room...|I am always looki...| 2015-08-31|\n",
            "|         US|   28770559|R2TGT0CDTCAAHW|B00INJ7HBK|     157027184|Singing Machine I...|Musical Instruments|          5|           21|         23|   N|                Y|   excellent product|Kids love it! It'...| 2015-08-31|\n",
            "|         US|   35225823| RX4D22YSXEF4P|B009EK8PUY|     166820090|Akai Front Load C...|Musical Instruments|          1|           37|         38|   N|                Y|All the reviews t...|All the reviews t...| 2015-08-31|\n",
            "|         US|   24740219|R3FL2NTLFUSPTQ|B014K2S348|     865024902|AKG 2015 NEWEST M...|Musical Instruments|          5|           33|         37|   N|                N|Might need an Amp...|I picked these he...| 2015-08-30|\n",
            "|         US|   26124872|R3QTP3YNZXAPPF|B004ISK4E2|     269767230|Fender CD-60 All ...|Musical Instruments|          3|           23|         24|   N|                Y|Couldnt be happie...|Great value. Awes...| 2015-08-30|\n",
            "|         US|   16452718|R36V6V42VN5AS5|B00SCP7IB4|     160806469|Numark Mixtrack 3...|Musical Instruments|          5|           34|         37|   N|                Y|let me say that t...|First off, let me...| 2015-08-30|\n",
            "|         US|   40567300|R27LZWE27BJPOB|B0142OY3ZM|     201152025|WOWTOU RGB Stage ...|Musical Instruments|          5|           22|         23|   N|                N|    Neat desktop toy|I saw this item a...| 2015-08-30|\n",
            "|         US|   49287335|R1P7GJ0IN2BRNH|B005FIFM14|       2563833|Pick Punch - The ...|Musical Instruments|          5|           37|         37|   N|                Y|  super fun and easy|Had it for about ...| 2015-08-29|\n",
            "|         US|   50984149|R2R6JPF9KOD2HJ|B008GXEFWC|     162279247|ddrum DD1 Complet...|Musical Instruments|          5|           19|         20|   N|                Y|   Super Drum Kit!!!|Awesome Kit With ...| 2015-08-29|\n",
            "|         US|   18517211|R2J0ZZGFXKM8KR|B00MZY6DXM|     498246743|Bakelite Guitar F...|Musical Instruments|          2|           21|         22|   N|                Y|NOT A SET OF NUT ...|NOT A SET OF NUT ...| 2015-08-28|\n",
            "|         US|   29380174|R238ZSG6TSUBNX|B0025VLQVE|     481754329|Dean Vendetta XMT...|Musical Instruments|          5|           27|         27|   N|                Y|          Amazing!!!|I can't believe p...| 2015-08-28|\n",
            "|         US|   47575748| RC6Y8GYIQZ8YU|B00HVLUR54|       9240469|Audio-Technica AT...|Musical Instruments|          3|           72|         85|   N|                Y|Good Sound, Medio...|Sound quality is ...| 2015-08-28|\n",
            "|         US|    1221512| RFL3TJED8C240|B00IZP4XR8|     386235968|Ibanez RG Series ...|Musical Instruments|          5|           13|         24|   N|                N|           It dj0nts|0/0<br />It dj0nt...| 2015-08-28|\n",
            "|         US|   51260912|R3D4P7A8Q1C70F|B00WU5OM5M|      18153107|LaluceNatz 18LED ...|Musical Instruments|          5|           22|         27|   N|                Y|Great product, es...|Ok, here is the d...| 2015-08-27|\n",
            "|         US|   40130155|R3PRNAQVQBB9M6|B00MUFJXTM|     500213118|TOTMC Legend of Z...|Musical Instruments|          1|           21|         30|   N|                Y|Product Not as Ad...|Terrible ocarina,...| 2015-08-27|\n",
            "|         US|    3430931|R2NTTIW5KBKLYG|B011I9AKYW|     686654129|WOWTOU LED Stage ...|Musical Instruments|          5|           19|         20|   N|                N|   Great Party Light|This is a great a...| 2015-08-27|\n",
            "|         US|   23046787|R3JNDLZ3KACRLG|B00MZCES7W|     356038397|Casio Learn-To-Pl...|Musical Instruments|          5|           29|         33|   N|                N|Best Learning Key...|My father in law ...| 2015-08-27|\n",
            "|         US|   47324124|R1PVVYYY0Q1HZ0|B00IPWOEJI|     627374566|TMS Black Ebony W...|Musical Instruments|          5|           21|         21|   N|                Y|Appears to be goo...|Exactly what I wa...| 2015-08-27|\n",
            "|         US|   42689422|R1R9RU7JW0MFR2|B0124Y99PQ|     618027384|Casio CGP-700BK C...|Musical Instruments|          4|           20|         23|   Y|                N|Be prepared to be...|First off PLEASE ...| 2015-08-27|\n",
            "|         US|   29940086|R1G9N0CW2982PA|B00BHQXM8S|     122514984|             Casio_3|Musical Instruments|          5|           21|         24|   N|                Y|Perfect for what ...|Exactly what we n...| 2015-08-26|\n",
            "+-----------+-----------+--------------+----------+--------------+--------------------+-------------------+-----------+-------------+-----------+----+-----------------+--------------------+--------------------+-----------+\n",
            "only showing top 20 rows\n",
            "\n"
          ],
          "name": "stdout"
        }
      ]
    },
    {
      "cell_type": "code",
      "metadata": {
        "colab": {
          "base_uri": "https://localhost:8080/"
        },
        "id": "X59OKPImgWGQ",
        "outputId": "7b32357a-5521-4219-d387-1b63691a8b16"
      },
      "source": [
        "third_filtered_df = second_filtered_df.filter(second_filtered_df['vine'] == 'Y')\n",
        "third_filtered_df.show()"
      ],
      "execution_count": 7,
      "outputs": [
        {
          "output_type": "stream",
          "text": [
            "+-----------+-----------+--------------+----------+--------------+--------------------+-------------------+-----------+-------------+-----------+----+-----------------+--------------------+--------------------+-----------+\n",
            "|marketplace|customer_id|     review_id|product_id|product_parent|       product_title|   product_category|star_rating|helpful_votes|total_votes|vine|verified_purchase|     review_headline|         review_body|review_date|\n",
            "+-----------+-----------+--------------+----------+--------------+--------------------+-------------------+-----------+-------------+-----------+----+-----------------+--------------------+--------------------+-----------+\n",
            "|         US|   42689422|R1R9RU7JW0MFR2|B0124Y99PQ|     618027384|Casio CGP-700BK C...|Musical Instruments|          4|           20|         23|   Y|                N|Be prepared to be...|First off PLEASE ...| 2015-08-27|\n",
            "|         US|   29182364|R19EFYNN3W8Q07|B00ZU4G0ZK|     499223759|TC Electronic Pol...|Musical Instruments|          5|           26|         32|   Y|                N|         Great Tuner|I’ve been using a...| 2015-08-22|\n",
            "|         US|   19467797|R34DJ1R8AEU0SG|B00V66XWTI|     758752724|Audio-Technica AT...|Musical Instruments|          5|           29|         35|   Y|                N|Great mic, phenom...|[[VIDEOID:282d682...| 2015-07-28|\n",
            "|         US|   52081784|R25P5CXK5L9RHF|B0100RBPTC|     139750877|Casio Privia PX16...|Musical Instruments|          5|          146|        161|   Y|                N|Review: Casio Pri...|[[VIDEOID:7885869...| 2015-07-23|\n",
            "|         US|   17421494|R2E9VZB3I4LSN5|B0100RBPTC|     139750877|Casio Privia PX16...|Musical Instruments|          5|           55|         59|   Y|                N|The sound is magn...|The Casio Privia ...| 2015-07-13|\n",
            "|         US|   50273418| RKYLHZL7EPELX|B00V66XWTI|     758752724|Audio-Technica AT...|Musical Instruments|          4|           19|         25|   Y|                N|Quality sound acc...|[[VIDEOID:2e41e07...| 2015-06-17|\n",
            "|         US|   50027179|R1U13EKGQD3ZE6|B00MIXFBL0|     363629101|TASCAM DR-60DmkII...|Musical Instruments|          5|           22|         25|   Y|                N|            Powerful|[[VIDEOID:50615d5...| 2015-03-08|\n",
            "|         US|   50258811| RYW05F1MUEF01|B00NW1IZ5Q|     923510791|Doppler Labs Dubs...|Musical Instruments|          5|           87|        102|   Y|                N|High Fidelity Ear...|I tested these ea...| 2015-02-25|\n",
            "|         US|   28322689|R2SW4NXNO7HZJ5|B00MIXFBKG|      21180708|      Tascam DR-22WL|Musical Instruments|          4|           28|         33|   Y|                N|Excellent portabl...|The DR-22WL (2-ch...| 2015-01-27|\n",
            "|         US|   52880152|R2016NFLSUR97Y|B00MIXFBKG|      21180708|      Tascam DR-22WL|Musical Instruments|          2|           26|         37|   Y|                N|Wi-Fi Recorder wi...|When it came to t...| 2015-01-18|\n",
            "|         US|   51238346| RFCV9QXJ3D79X|B00MZCEJHQ|     930095666|Shure Portable Co...|Musical Instruments|          3|           20|         22|   Y|                N|Stylish Looks, So...|The bargain space...| 2014-11-21|\n",
            "|         US|   48204392|R36779ZAY4ZT0Y|B00JA8QD40|     348378287|JamStik: The Guit...|Musical Instruments|          3|           46|         50|   Y|                N|Guitar-Like - But...|I checked out the...| 2014-11-15|\n",
            "|         US|   53080186|R13PPTBWWV10Q6|B00MIXF2RS|     559231111|       Tascam US-2x2|Musical Instruments|          5|           19|         25|   Y|                N|Great for podcast...|[[VIDEOID:3e74561...| 2014-11-11|\n",
            "|         US|   49131768|R2A3FFNJTDUBMV|B00JAEDIP6|     624394217|Yamaha PSRE443 61...|Musical Instruments|          5|           20|         27|   Y|                N|Beginner friendly...|The PSRE445 61 ke...| 2014-09-22|\n",
            "|         US|   52736752|R3QQG4HUB214TM|B00JAEDIP6|     624394217|Yamaha PSRE443 61...|Musical Instruments|          5|          111|        128|   Y|                N|A versatile keybo...|The Yamaha PSRE44...| 2014-09-11|\n",
            "|         US|   31463400|R3J9OSJNJB7KGM|B00JAEDIP6|     624394217|Yamaha PSRE443 61...|Musical Instruments|          5|           70|         80|   Y|                N|Perfect way for t...|I was excited to ...| 2014-09-11|\n",
            "|         US|   27847324| RIMYDUAAFXY2U|B00L1LL7DQ|      27203332|D'Addario NS Micr...|Musical Instruments|          5|           22|         23|   Y|                N|D'Addario NS Micr...|This tuner is nic...| 2014-09-10|\n",
            "|         US|   35360512|R22CYBPLKWDK6F|B00J6XI15S|     477564165|Blue Microphones ...|Musical Instruments|          5|           47|         54|   Y|                N|Surprisingly good...|Blue is an intere...| 2014-08-07|\n",
            "|         US|   52825479|R1ETBDZ1LJ8CEL|B00J6XI15S|     477564165|Blue Microphones ...|Musical Instruments|          4|           28|         32|   Y|                N|Improves on the b...|&#34;Mikey&#34; h...| 2014-08-01|\n",
            "|         US|   20325834|R28T5ISQ8AA7E5|B00H02C9TG|     854858339|Apogee Portable S...|Musical Instruments|          5|           40|         42|   Y|                N|Solid build, soun...|I own the JAM as ...| 2014-07-28|\n",
            "+-----------+-----------+--------------+----------+--------------+--------------------+-------------------+-----------+-------------+-----------+----+-----------------+--------------------+--------------------+-----------+\n",
            "only showing top 20 rows\n",
            "\n"
          ],
          "name": "stdout"
        }
      ]
    },
    {
      "cell_type": "code",
      "metadata": {
        "colab": {
          "base_uri": "https://localhost:8080/"
        },
        "id": "yMlemql2g9bq",
        "outputId": "26fb4803-a5ab-4cc4-f745-1df87648dd01"
      },
      "source": [
        "forth_filtered_df = second_filtered_df.filter(second_filtered_df['vine'] == 'N')\n",
        "forth_filtered_df.show()"
      ],
      "execution_count": 8,
      "outputs": [
        {
          "output_type": "stream",
          "text": [
            "+-----------+-----------+--------------+----------+--------------+--------------------+-------------------+-----------+-------------+-----------+----+-----------------+--------------------+--------------------+-----------+\n",
            "|marketplace|customer_id|     review_id|product_id|product_parent|       product_title|   product_category|star_rating|helpful_votes|total_votes|vine|verified_purchase|     review_headline|         review_body|review_date|\n",
            "+-----------+-----------+--------------+----------+--------------+--------------------+-------------------+-----------+-------------+-----------+----+-----------------+--------------------+--------------------+-----------+\n",
            "|         US|   15365576|R2243Y3OD8U6KQ|B00W1RTVGO|     160618734|Supertech stage l...|Musical Instruments|          5|           47|         61|   N|                N|This fills a room...|I am always looki...| 2015-08-31|\n",
            "|         US|   28770559|R2TGT0CDTCAAHW|B00INJ7HBK|     157027184|Singing Machine I...|Musical Instruments|          5|           21|         23|   N|                Y|   excellent product|Kids love it! It'...| 2015-08-31|\n",
            "|         US|   35225823| RX4D22YSXEF4P|B009EK8PUY|     166820090|Akai Front Load C...|Musical Instruments|          1|           37|         38|   N|                Y|All the reviews t...|All the reviews t...| 2015-08-31|\n",
            "|         US|   24740219|R3FL2NTLFUSPTQ|B014K2S348|     865024902|AKG 2015 NEWEST M...|Musical Instruments|          5|           33|         37|   N|                N|Might need an Amp...|I picked these he...| 2015-08-30|\n",
            "|         US|   26124872|R3QTP3YNZXAPPF|B004ISK4E2|     269767230|Fender CD-60 All ...|Musical Instruments|          3|           23|         24|   N|                Y|Couldnt be happie...|Great value. Awes...| 2015-08-30|\n",
            "|         US|   16452718|R36V6V42VN5AS5|B00SCP7IB4|     160806469|Numark Mixtrack 3...|Musical Instruments|          5|           34|         37|   N|                Y|let me say that t...|First off, let me...| 2015-08-30|\n",
            "|         US|   40567300|R27LZWE27BJPOB|B0142OY3ZM|     201152025|WOWTOU RGB Stage ...|Musical Instruments|          5|           22|         23|   N|                N|    Neat desktop toy|I saw this item a...| 2015-08-30|\n",
            "|         US|   49287335|R1P7GJ0IN2BRNH|B005FIFM14|       2563833|Pick Punch - The ...|Musical Instruments|          5|           37|         37|   N|                Y|  super fun and easy|Had it for about ...| 2015-08-29|\n",
            "|         US|   50984149|R2R6JPF9KOD2HJ|B008GXEFWC|     162279247|ddrum DD1 Complet...|Musical Instruments|          5|           19|         20|   N|                Y|   Super Drum Kit!!!|Awesome Kit With ...| 2015-08-29|\n",
            "|         US|   18517211|R2J0ZZGFXKM8KR|B00MZY6DXM|     498246743|Bakelite Guitar F...|Musical Instruments|          2|           21|         22|   N|                Y|NOT A SET OF NUT ...|NOT A SET OF NUT ...| 2015-08-28|\n",
            "|         US|   29380174|R238ZSG6TSUBNX|B0025VLQVE|     481754329|Dean Vendetta XMT...|Musical Instruments|          5|           27|         27|   N|                Y|          Amazing!!!|I can't believe p...| 2015-08-28|\n",
            "|         US|   47575748| RC6Y8GYIQZ8YU|B00HVLUR54|       9240469|Audio-Technica AT...|Musical Instruments|          3|           72|         85|   N|                Y|Good Sound, Medio...|Sound quality is ...| 2015-08-28|\n",
            "|         US|    1221512| RFL3TJED8C240|B00IZP4XR8|     386235968|Ibanez RG Series ...|Musical Instruments|          5|           13|         24|   N|                N|           It dj0nts|0/0<br />It dj0nt...| 2015-08-28|\n",
            "|         US|   51260912|R3D4P7A8Q1C70F|B00WU5OM5M|      18153107|LaluceNatz 18LED ...|Musical Instruments|          5|           22|         27|   N|                Y|Great product, es...|Ok, here is the d...| 2015-08-27|\n",
            "|         US|   40130155|R3PRNAQVQBB9M6|B00MUFJXTM|     500213118|TOTMC Legend of Z...|Musical Instruments|          1|           21|         30|   N|                Y|Product Not as Ad...|Terrible ocarina,...| 2015-08-27|\n",
            "|         US|    3430931|R2NTTIW5KBKLYG|B011I9AKYW|     686654129|WOWTOU LED Stage ...|Musical Instruments|          5|           19|         20|   N|                N|   Great Party Light|This is a great a...| 2015-08-27|\n",
            "|         US|   23046787|R3JNDLZ3KACRLG|B00MZCES7W|     356038397|Casio Learn-To-Pl...|Musical Instruments|          5|           29|         33|   N|                N|Best Learning Key...|My father in law ...| 2015-08-27|\n",
            "|         US|   47324124|R1PVVYYY0Q1HZ0|B00IPWOEJI|     627374566|TMS Black Ebony W...|Musical Instruments|          5|           21|         21|   N|                Y|Appears to be goo...|Exactly what I wa...| 2015-08-27|\n",
            "|         US|   29940086|R1G9N0CW2982PA|B00BHQXM8S|     122514984|             Casio_3|Musical Instruments|          5|           21|         24|   N|                Y|Perfect for what ...|Exactly what we n...| 2015-08-26|\n",
            "|         US|   42339282|R2N8ZFHQBWHMDL|B0053CUHMG|     443018400|Epiphone Les Paul...|Musical Instruments|          2|           26|         28|   N|                Y|        Disappointed|Extremely disappo...| 2015-08-26|\n",
            "+-----------+-----------+--------------+----------+--------------+--------------------+-------------------+-----------+-------------+-----------+----+-----------------+--------------------+--------------------+-----------+\n",
            "only showing top 20 rows\n",
            "\n"
          ],
          "name": "stdout"
        }
      ]
    },
    {
      "cell_type": "code",
      "metadata": {
        "colab": {
          "base_uri": "https://localhost:8080/"
        },
        "id": "tfmZe5muIDfA",
        "outputId": "1cfd1237-3910-4f01-a00a-9a778ec9acf1"
      },
      "source": [
        "#Determine the total number of reviews paid vine\n",
        "total_num_reviews_vine = third_filtered_df.count()\n",
        "total_num_reviews_vine"
      ],
      "execution_count": 11,
      "outputs": [
        {
          "output_type": "execute_result",
          "data": {
            "text/plain": [
              "60"
            ]
          },
          "metadata": {
            "tags": []
          },
          "execution_count": 11
        }
      ]
    },
    {
      "cell_type": "code",
      "metadata": {
        "colab": {
          "base_uri": "https://localhost:8080/"
        },
        "id": "UgEDEWbGIvgs",
        "outputId": "0764e0ff-056b-4491-cf9d-f88fb58c5c54"
      },
      "source": [
        "#Determine the total number of reviews not paid vine\n",
        "total_num_reviews_novine = forth_filtered_df.count()\n",
        "total_num_reviews_novine"
      ],
      "execution_count": 12,
      "outputs": [
        {
          "output_type": "execute_result",
          "data": {
            "text/plain": [
              "14477"
            ]
          },
          "metadata": {
            "tags": []
          },
          "execution_count": 12
        }
      ]
    },
    {
      "cell_type": "code",
      "metadata": {
        "colab": {
          "base_uri": "https://localhost:8080/"
        },
        "id": "gVYgDweNJWq4",
        "outputId": "2f05629e-83e8-41c6-cd27-0d256484ba8b"
      },
      "source": [
        " #the number of 5-star reviews \n",
        "num_5star_reviews_vine= third_filtered_df.filter(df['star_rating']==5).count()\n",
        "num_5star_reviews_vine"
      ],
      "execution_count": 14,
      "outputs": [
        {
          "output_type": "execute_result",
          "data": {
            "text/plain": [
              "34"
            ]
          },
          "metadata": {
            "tags": []
          },
          "execution_count": 14
        }
      ]
    },
    {
      "cell_type": "code",
      "metadata": {
        "colab": {
          "base_uri": "https://localhost:8080/"
        },
        "id": "xwcRD4_qJW5x",
        "outputId": "91411674-b419-4842-e1e7-c434cf3e2f69"
      },
      "source": [
        " #the number of 5-star reviews \n",
        "num_5star_reviews_novine= forth_filtered_df.filter(df['star_rating']==5).count()\n",
        "num_5star_reviews_novine"
      ],
      "execution_count": 15,
      "outputs": [
        {
          "output_type": "execute_result",
          "data": {
            "text/plain": [
              "8212"
            ]
          },
          "metadata": {
            "tags": []
          },
          "execution_count": 15
        }
      ]
    },
    {
      "cell_type": "code",
      "metadata": {
        "colab": {
          "base_uri": "https://localhost:8080/"
        },
        "id": "ZgLgZnOpFsne",
        "outputId": "5b831b37-60ca-40b4-ad49-bc540043bbf4"
      },
      "source": [
        " #the percentage of 5-star reviews for the two types of review (paid vs unpaid).\n",
        " percent_5star_vine = num_5star_reviews_vine*100/total_num_reviews_vine\n",
        " percent_5star_vine"
      ],
      "execution_count": 16,
      "outputs": [
        {
          "output_type": "execute_result",
          "data": {
            "text/plain": [
              "56.666666666666664"
            ]
          },
          "metadata": {
            "tags": []
          },
          "execution_count": 16
        }
      ]
    },
    {
      "cell_type": "code",
      "metadata": {
        "colab": {
          "base_uri": "https://localhost:8080/"
        },
        "id": "GEykDf2hK-t7",
        "outputId": "5cfb0a8a-5dc1-4467-e506-45104ed067d4"
      },
      "source": [
        "#the percentage of 5-star reviews for the two types of review (paid vs unpaid).\n",
        "percent_5star_novine = num_5star_reviews_novine*100/total_num_reviews_novine\n",
        "percent_5star_novine"
      ],
      "execution_count": 18,
      "outputs": [
        {
          "output_type": "execute_result",
          "data": {
            "text/plain": [
              "56.72445948746287"
            ]
          },
          "metadata": {
            "tags": []
          },
          "execution_count": 18
        }
      ]
    }
  ]
}